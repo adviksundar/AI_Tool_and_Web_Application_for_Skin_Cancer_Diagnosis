{
  "nbformat": 4,
  "nbformat_minor": 0,
  "metadata": {
    "accelerator": "GPU",
    "colab": {
      "provenance": [],
      "collapsed_sections": [
        "LTuVjtt7pf1N"
      ]
    },
    "kernelspec": {
      "display_name": "Python 3",
      "name": "python3"
    }
  },
  "cells": [
    {
      "cell_type": "markdown",
      "metadata": {
        "id": "8qhF7Oi9c-v6"
      },
      "source": [
        "# This jupyter notebook is 3 of 5 notebooks in building an AI model about detecting skin cancer and deploying that model via designing a web application"
      ]
    },
    {
      "cell_type": "markdown",
      "metadata": {
        "id": "JouKR3pTBF_L"
      },
      "source": [
        "# *Online Dermatologists:* 📱 🌐 Diagnosing Skin Cancer through a Web Application"
      ]
    },
    {
      "cell_type": "markdown",
      "metadata": {
        "id": "nPnF7JnsD6II"
      },
      "source": [
        "In this notebook we'll be:\n",
        "*   Deploying our ML models to a web app"
      ]
    },
    {
      "cell_type": "code",
      "metadata": {
        "id": "FTdtdJ61xSAO"
      },
      "source": [
        "#@title Run this to download data and prepare our environment! { display-mode: \"form\" }\n",
        "from google.colab.output import eval_js\n",
        "\n",
        "import time\n",
        "start_time = time.time()\n",
        "\n",
        "import tensorflow as tf\n",
        "\n",
        "!pip install tensorflowjs\n",
        "import tensorflowjs as tfjs\n",
        "\n",
        "from google.colab import files\n",
        "\n",
        "import requests, io, zipfile\n",
        "import os\n",
        "\n",
        "# Prepare data\n",
        "\n",
        "images_1 = os.makedirs('images_1', exist_ok=True)\n",
        "images_2= os.makedirs('images_2', exist_ok=True)\n",
        "images_all= os.makedirs('images_all', exist_ok=True)\n",
        "\n",
        "metadata_path = 'metadata.csv'\n",
        "image_path_1 = 'images_1.zip'\n",
        "image_path_2 = 'images_2.zip'\n",
        "images_rgb_path = 'hmnist_8_8_RGB.csv'\n",
        "\n",
        "!wget -O metadata.csv 'https://storage.googleapis.com/inspirit-ai-data-bucket-1/Data/AI%20Scholars/Sessions%206%20-%2010%20(Projects)/Project%20-%20(Healthcare%20B)%20Skin%20Cancer%20Diagnosis/metadata.csv'\n",
        "!wget -O images_1.zip 'https://storage.googleapis.com/inspirit-ai-data-bucket-1/Data/AI%20Scholars/Sessions%206%20-%2010%20(Projects)/Project%20-%20(Healthcare%20B)%20Skin%20Cancer%20Diagnosis/images_1.zip'\n",
        "!wget -O images_2.zip 'https://storage.googleapis.com/inspirit-ai-data-bucket-1/Data/AI%20Scholars/Sessions%206%20-%2010%20(Projects)/Project%20-%20(Healthcare%20B)%20Skin%20Cancer%20Diagnosis/images_2.zip'\n",
        "!wget -O hmnist_8_8_RGB.csv 'https://storage.googleapis.com/inspirit-ai-data-bucket-1/Data/AI%20Scholars/Sessions%206%20-%2010%20(Projects)/Project%20-%20(Healthcare%20B)%20Skin%20Cancer%20Diagnosis/hmnist_8_8_RGB.csv'\n",
        "!unzip -q -o images_1.zip -d images_1\n",
        "!unzip -q -o images_2.zip -d images_2\n",
        "\n",
        "!pip install patool\n",
        "import patoolib\n",
        "\n",
        "import os.path\n",
        "from os import path\n",
        "\n",
        "os.makedirs(\"static/js\")\n",
        "!wget -O static/js/skin_cancer_diagnosis_script.js 'https://storage.googleapis.com/inspirit-ai-data-bucket-1/Data/AI%20Scholars/Sessions%206%20-%2010%20(Projects)/Project%20-%20(Healthcare%20B)%20Skin%20Cancer%20Diagnosis/skin_cancer_diagnosis_script.js'\n",
        "output = 'static/js/skin_cancer_diagnosis_script.js'\n",
        "\n",
        "print(\"Downloaded Data\")"
      ],
      "execution_count": null,
      "outputs": []
    },
    {
      "cell_type": "markdown",
      "metadata": {
        "id": "dD_dWASuNGks"
      },
      "source": [
        "# Deploy ML to a Website"
      ]
    },
    {
      "cell_type": "markdown",
      "metadata": {
        "id": "NUfXBrCWTFV_"
      },
      "source": [
        "Now, let's start thinking about building a mobile app or web app to perform skin cancer diagnosis."
      ]
    },
    {
      "cell_type": "markdown",
      "metadata": {
        "id": "F8F7cEHs3057"
      },
      "source": [
        "Now, we'll use JavaScript and HTML to construct a simple website that hosts the website, which we can access from our browser. The following code segment provides the public URL from which we can access the website."
      ]
    },
    {
      "cell_type": "code",
      "metadata": {
        "id": "sz5tYqtq3IhB"
      },
      "source": [
        "print(eval_js(\"google.colab.kernel.proxyPort(8000)\"))"
      ],
      "execution_count": null,
      "outputs": []
    },
    {
      "cell_type": "markdown",
      "metadata": {
        "id": "Kfy_s9qZ3wn1"
      },
      "source": [
        "Whenever we want to host the website, we can run the code segment below and click on the URL above to check it out.\n",
        "\n",
        "It's important to note that the HTML and JS won't execute in the code cells, but once we host the website, we can head over to the URL to check out our code in action! For debugging purposes, right click on the webpage, choose \"Inspect Element\", and select \"Console\" to follow the Javascript."
      ]
    },
    {
      "cell_type": "code",
      "metadata": {
        "id": "SXQM5zfi219U"
      },
      "source": [
        "!python -m http.server 8000"
      ],
      "execution_count": null,
      "outputs": []
    },
    {
      "cell_type": "markdown",
      "metadata": {
        "id": "1Tc4cyp1NbVc"
      },
      "source": [
        "Now, let's build our website. Through this website, we'll be able to run our CNN model in the browser using Tensorflow JS. As TensorflowJS doesn't yet support the version of Mobilenet we use in this notebook, we'll be using our first CNN.\n",
        "\n",
        "In this project, we'll be working with HTML, CSS, and Javascript to build our website:\n",
        "\n",
        "*   With HTML we can define and manipulate UI elements like text fields, buttons, and loading bars.\n",
        "*   With CSS, we can craft the feel of the elements and manipulate attributes of the design, such as color or animations.\n",
        "*   With Javascript (JS), we can add logic to our website and write code like we're used to.\n",
        "\n",
        "In a new tab, we can navigate to [this website.](https://www.w3schools.com/tryit/tryit.asp?filename=tryhtml_default) We'll be editing our HTML UI here before actually deploying our website. We can copy over the code below, which we'll use as a skeleton."
      ]
    },
    {
      "cell_type": "markdown",
      "metadata": {
        "id": "vWW6zIpCpKZ1"
      },
      "source": [
        "## Basics of HTML and CSS"
      ]
    },
    {
      "cell_type": "markdown",
      "metadata": {
        "id": "T3QPsqHI8NUr"
      },
      "source": [
        "HTML elements are defined through tags(`<tag>`). An element's opening tag has no backslash, while its closing tag has one (like `</tag>`). Everything between the tags is considered to be a part of the element. In HTML we can define comments through the `<!-- -->` tag."
      ]
    },
    {
      "cell_type": "code",
      "metadata": {
        "id": "PXjTKVky7WuE"
      },
      "source": [
        "<!-- HTML allows us to create UI elements we can interact with-->\n",
        "\n",
        "<head>\n",
        "\n",
        "</head>\n",
        "<body>\n",
        "\n",
        "</body>"
      ],
      "execution_count": null,
      "outputs": []
    },
    {
      "cell_type": "markdown",
      "metadata": {
        "id": "hvtk5mkQ8rb0"
      },
      "source": [
        "Copy the following lines into the space between the head tags. The link tag allows us to import CSS libraries. In this case, we'll be using the Materialize library, which mimics Google's Material Design design language. The line with the `<meta>` tag tells our browser that our website is optimized for mobile devices."
      ]
    },
    {
      "cell_type": "code",
      "metadata": {
        "id": "T5voc4V57_Ma"
      },
      "source": [
        "<!-- CSS helps us design the feel and style of the UI. In this example, we're using Google's Material Design-->\n",
        "\n",
        "<!-- Import Google Icon Font -->\n",
        "<link href=\"https://fonts.googleapis.com/icon?family=Material+Icons\" rel=\"stylesheet\">\n",
        "\n",
        "<!--Optimize Viewport for Mobile Devices-->\n",
        "<meta name=\"viewport\" content=\"width=device-width, initial-scale=1.0\"/>"
      ],
      "execution_count": null,
      "outputs": []
    },
    {
      "cell_type": "markdown",
      "metadata": {
        "id": "dyerrMOMGAXX"
      },
      "source": [
        "We'll also need to import a CSS stylesheet for Materialize from [this](https://cdnjs.cloudflare.com/ajax/libs/materialize/1.0.0/css/materialize.min.css) link."
      ]
    },
    {
      "cell_type": "code",
      "metadata": {
        "id": "Ej2j-US_F_2M"
      },
      "source": [
        "<!-- Import CSS for Materialize -->\n",
        "<link rel=\"stylesheet\" href=\"https://cdnjs.cloudflare.com/ajax/libs/materialize/1.0.0/css/materialize.min.css\">"
      ],
      "execution_count": null,
      "outputs": []
    },
    {
      "cell_type": "markdown",
      "metadata": {
        "id": "LJ6QCe8GpV5d"
      },
      "source": [
        "## UI Elements"
      ]
    },
    {
      "cell_type": "markdown",
      "metadata": {
        "id": "w1eH0_ty9Bxh"
      },
      "source": [
        "Now, we'll define some other UI elements. The following elements will be placed in the `body` element. The nav tag specifies a title bar. In the nav tag, we can also select our color by specifying it in the class attribute. [Here](https://materializecss.com/color.html) is a list of materialize colors. The div tag just specifies a section of HTML that can be extensively customized. For example, here the div tag is an element of the Title Bar. In a later example, div tags will be components of loading bars and file input buttons."
      ]
    },
    {
      "cell_type": "code",
      "metadata": {
        "id": "Rn_FG9ZV9Jke"
      },
      "source": [
        "<!-- Title Bar -->\n",
        "<nav class=\"{Enter Color Here}\">\n",
        "    <div class=\"nav-wrapper\">\n",
        "      <a href=\"#\" class=\"brand-logo\">Skin Cancer Diagnosis</a>\n",
        "    </div>\n",
        "  </nav>"
      ],
      "execution_count": null,
      "outputs": []
    },
    {
      "cell_type": "markdown",
      "metadata": {
        "id": "0OI1IuQ2-3-j"
      },
      "source": [
        "The following tag specifies a type of UI element container. Every HTML element in a `<div>` tag will experience the properties of the `<div>` tag. For example, this div has a padding of 5%, meaning that all elements inside of it, will have a 5% gap between the borders of the window."
      ]
    },
    {
      "cell_type": "code",
      "metadata": {
        "id": "_fcHWiLL--Jz"
      },
      "source": [
        "<!-- Container for all other HTML Elements -->\n",
        "<div style=\"padding:5%;\">\n",
        "\n",
        "</div>"
      ],
      "execution_count": null,
      "outputs": []
    },
    {
      "cell_type": "markdown",
      "metadata": {
        "id": "HqMKIT8O_XvS"
      },
      "source": [
        "The following HTML represents a loading bar. This loading bar will stop progressing once we load our model."
      ]
    },
    {
      "cell_type": "code",
      "metadata": {
        "id": "qGbA4nU9_e1s"
      },
      "source": [
        "<!-- Loading Bar -->\n",
        "<h4 id=\"loadingmodel\">Loading ML Model</h4>\n",
        "<div id=\"progressbar\" class=\"progress\">\n",
        "    <div class=\"indeterminate\"></div>\n",
        "</div>"
      ],
      "execution_count": null,
      "outputs": []
    },
    {
      "cell_type": "markdown",
      "metadata": {
        "id": "pp-XdUo3_koh"
      },
      "source": [
        "The following HTML represents a file input button. We will be using this to read images to classify. We can also set our color here."
      ]
    },
    {
      "cell_type": "code",
      "metadata": {
        "id": "cKouac4P_vAq"
      },
      "source": [
        "<!-- Image File Input -->\n",
        "<div class=\"file-field input-field\">\n",
        "    <div class=\"btn {Enter Color Here}\">\n",
        "      <span>Select Image</span>\n",
        "      <input type=\"file\" accept=\"image/*\" onchange=\"onFileSelected(event)\">\n",
        "    </div>\n",
        "    <div class=\"file-path-wrapper\">\n",
        "      <input class=\"file-path validate\" type=\"text\">\n",
        "    </div>\n",
        "  </div>"
      ],
      "execution_count": null,
      "outputs": []
    },
    {
      "cell_type": "markdown",
      "metadata": {
        "id": "X4alNKXL_-1E"
      },
      "source": [
        "The following HTML represents an image. We will be using this to display the image that the user inputs."
      ]
    },
    {
      "cell_type": "code",
      "metadata": {
        "id": "2GpSoOgf_9h5"
      },
      "source": [
        "<!-- Image to be Classified -->\n",
        "<img id=\"image\"></img>"
      ],
      "execution_count": null,
      "outputs": []
    },
    {
      "cell_type": "markdown",
      "metadata": {
        "id": "RJ15rEWfFbjL"
      },
      "source": [
        "Now we add width and height attributes to the `<img>` tag that correspond to the width and height of our images."
      ]
    },
    {
      "cell_type": "code",
      "metadata": {
        "id": "ctlcg3sbFasr"
      },
      "source": [
        "<img id=\"image\" width=\"100\" height=\"75\"></img>"
      ],
      "execution_count": null,
      "outputs": []
    },
    {
      "cell_type": "markdown",
      "metadata": {
        "id": "sOyYtHVeAJv9"
      },
      "source": [
        "The following HTML represents the creation of new lines. This is just for formatting."
      ]
    },
    {
      "cell_type": "code",
      "metadata": {
        "id": "sGX9qySmAHgh"
      },
      "source": [
        "<!-- Add New Lines -->\n",
        "<br/>\n",
        "<br/>"
      ],
      "execution_count": null,
      "outputs": []
    },
    {
      "cell_type": "markdown",
      "metadata": {
        "id": "Xk_ueLDwAr4q"
      },
      "source": [
        "The following HTML represents the button we'll use to trigger the image classification. We can also select a button color here. The options for button size are `btn-small` or `btn-large`.  "
      ]
    },
    {
      "cell_type": "code",
      "metadata": {
        "id": "vHBP5YdHAiBi"
      },
      "source": [
        "<!-- Button to Perform Classification -->\n",
        "<a onclick=\"predict()\" class=\"{Enter Color Here} {Enter Button Size Here} waves-effect waves-light btn\">Classify Image</a>"
      ],
      "execution_count": null,
      "outputs": []
    },
    {
      "cell_type": "markdown",
      "metadata": {
        "id": "tx9_ULmMbp0d"
      },
      "source": [
        "We can also add an icon to the button. We can find a list of icons at [this](https://materializecss.com/icons.html) link. By adding an icon tag `<i class=\"left material-icons\">add</i>` to the inside of a button's tag, the icon should display alognside the button text. An example is in the line below."
      ]
    },
    {
      "cell_type": "code",
      "metadata": {
        "id": "AULp5kelcVar"
      },
      "source": [
        "<!-- Button to Perform Classification -->\n",
        "<a onclick=\"predict()\" class=\"{Enter Color Here} {Enter Button Size Here} waves-effect waves-light btn\"><i class=\"left material-icons\">add_alert</i>Classify Image</a>"
      ],
      "execution_count": null,
      "outputs": []
    },
    {
      "cell_type": "markdown",
      "metadata": {
        "id": "x8kRcKY-A33x"
      },
      "source": [
        "The following HTML represents the text we'll use to display the probability and prediction of our image classification model."
      ]
    },
    {
      "cell_type": "code",
      "metadata": {
        "id": "XgbL_vHBAqvi"
      },
      "source": [
        "<!-- Text Fields for the Prediction -->\n",
        "<h3>Prediction</h3>\n",
        "<b><p id=\"prediction\"></p></b>"
      ],
      "execution_count": null,
      "outputs": []
    },
    {
      "cell_type": "markdown",
      "metadata": {
        "id": "WAXmrfiTE6Nz"
      },
      "source": [
        "Now, we add a `<p>` tag for the classification's probability as well."
      ]
    },
    {
      "cell_type": "code",
      "metadata": {
        "id": "g1dyb4SyE2u7"
      },
      "source": [
        "<p id=\"probability\"></p>"
      ],
      "execution_count": null,
      "outputs": []
    },
    {
      "cell_type": "markdown",
      "metadata": {
        "id": "Z3ZLCmHKpaLV"
      },
      "source": [
        "## Writing the Web App"
      ]
    },
    {
      "cell_type": "markdown",
      "metadata": {
        "id": "O03RJCoHU6ZV"
      },
      "source": [
        "Now we go ahead and place these elements on the website!\n",
        "\n",
        "Some other handy Materialize Helper classes can be found [here](https://materializecss.com/helpers.html)."
      ]
    },
    {
      "cell_type": "code",
      "metadata": {
        "id": "t9h2j3ywBDNx"
      },
      "source": [
        "%%writefile index.html\n",
        "<!-- Demo: https://rganesh22.github.io/htmlmockups/tensorflowjs.html -->\n",
        "<!-- HTML allows us to create UI elements we can interact with-->\n",
        "\n",
        "<head>\n",
        "\n",
        "    <!-- CSS helps us design the feel and style of the UI. In this example, we're using Google's Material Design-->\n",
        "\n",
        "    <!-- Import Google Icon Font -->\n",
        "    <link href=\"https://fonts.googleapis.com/icon?family=Material+Icons\" rel=\"stylesheet\">\n",
        "    <!-- Import CSS for Materialize -->\n",
        "    <link rel=\"stylesheet\" href=\"https://cdnjs.cloudflare.com/ajax/libs/materialize/1.0.0/css/materialize.min.css\">\n",
        "\n",
        "     <!--Optimize Viewport for Mobile Devices-->\n",
        "     <meta name=\"viewport\" content=\"width=device-width, initial-scale=1.0\"/>\n",
        "\n",
        "</head>\n",
        "<body>\n",
        "\n",
        "    <!-- Title Bar -->\n",
        "    <nav>\n",
        "        <div class=\"nav-wrapper\">\n",
        "          <a href=\"#\" class=\"brand-logo\">Skin Cancer Diagnosis</a>\n",
        "        </div>\n",
        "      </nav>\n",
        "\n",
        "    <!-- Contain for all other HTML Elements -->\n",
        "    <div style=\"padding:5%;\">\n",
        "\n",
        "        <!-- Loading Bar -->\n",
        "        <h4 id=\"loadingmodel\">Loading ML Model</h4>\n",
        "        <div id=\"progressbar\" class=\"progress\">\n",
        "            <div class=\"indeterminate\"></div>\n",
        "        </div>\n",
        "\n",
        "        <!-- Image File Input -->\n",
        "        <div class=\"file-field input-field\">\n",
        "            <div class=\"btn\">\n",
        "              <span>Select Image</span>\n",
        "              <input type=\"file\" accept=\"image/*\" onchange=\"onFileSelected(event)\">\n",
        "            </div>\n",
        "            <div class=\"file-path-wrapper\">\n",
        "              <input class=\"file-path validate\" type=\"text\">\n",
        "            </div>\n",
        "          </div>\n",
        "\n",
        "        <!-- Image to be Classified -->\n",
        "        <img id=\"image\" width=\"100\" height=\"75\"></img>\n",
        "\n",
        "        <!-- Add New Lines -->\n",
        "\n",
        "        <br/>\n",
        "        <br/>\n",
        "\n",
        "        <!-- Button to Perform Classification -->\n",
        "        <a onclick=\"predict()\" class=\"waves-effect waves-light btn\">Classify Image</a>\n",
        "\n",
        "        <!-- Text Fields for the Prediction and the Probability -->\n",
        "        <h3>Prediction</h3>\n",
        "\n",
        "        <b><p id=\"prediction\"></p></b>\n",
        "        <p id=\"probability\"></p>\n",
        "\n",
        "    </div>\n",
        "\n",
        "    <!-- Import JS Libraries -->\n",
        "    <script src=\"https://cdnjs.cloudflare.com/ajax/libs/materialize/1.0.0/js/materialize.min.js\"></script>\n",
        "    <script src=\"https://cdn.jsdelivr.net/npm/@tensorflow/tfjs@2.0.0/dist/tf.min.js\"></script>\n",
        "    <script src=\"static/js/skin_cancer_diagnosis_script.js\"></script>\n",
        "\n",
        "    <!-- Javascript allows us to apply logic to our UI elements and programmatically control the website -->\n",
        "    <!-- We'll be using Tensorflow JS to perform our model inference -->\n",
        "\n",
        "    <script>\n",
        "\n",
        "        // Initialize our HTML elements as JS objects\n",
        "\n",
        "        var imgtag = document.getElementById(\"image\")\n",
        "        var prediction_text = document.getElementById(\"prediction\")\n",
        "        var probability_text = document.getElementById(\"probability\")\n",
        "\n",
        "        var progressbar = document.getElementById(\"progressbar\")\n",
        "        var loadingmodel = document.getElementById(\"loadingmodel\")\n",
        "\n",
        "\n",
        "    </script>\n",
        "</body>\n"
      ],
      "execution_count": null,
      "outputs": []
    },
    {
      "cell_type": "markdown",
      "metadata": {
        "id": "LTuVjtt7pf1N"
      },
      "source": [
        "## Writing JavaScript (JS)"
      ]
    },
    {
      "cell_type": "markdown",
      "metadata": {
        "id": "_C21szISBWES"
      },
      "source": [
        "The script tag specifies the location to import javascript libraries from. In this case, we're importing Tensorflow JS for ML and the Materialize JS library. We can place this in the body, but after the div our elements are placed in."
      ]
    },
    {
      "cell_type": "code",
      "metadata": {
        "id": "aeLb6XPrBTUb"
      },
      "source": [
        "<!-- Import JS Libraries -->\n",
        "<script src=\"https://cdnjs.cloudflare.com/ajax/libs/materialize/1.0.0/js/materialize.min.js\"></script>\n",
        "<script src=\"https://cdn.jsdelivr.net/npm/@tensorflow/tfjs@2.0.0/dist/tf.min.js\"></script>"
      ],
      "execution_count": null,
      "outputs": []
    },
    {
      "cell_type": "markdown",
      "metadata": {
        "id": "9R-iVsZnDPVj"
      },
      "source": [
        "Now we define a script element. This is where we will be able to write our Javascript. We add this element below our JS imports."
      ]
    },
    {
      "cell_type": "code",
      "metadata": {
        "id": "RzA0TdhTDZ8g"
      },
      "source": [
        "<!-- Javascript allows us to apply logic to our UI elements and programmatically control the website -->\n",
        "<!-- We'll be using Tensorflow JS to perform our model inference -->\n",
        "<script>\n",
        "\n",
        "</script>"
      ],
      "execution_count": null,
      "outputs": []
    },
    {
      "cell_type": "markdown",
      "metadata": {
        "id": "dGdwcr12Dvfp"
      },
      "source": [
        "First, we need to initialize our HTML elements in JS so that we can reference them through variables. The following line references each HTML element by its specified ID and creates its respective variable in JS. In JS, we have to declare variables with the `var` identifier, unlike Python. Additionally, in Javascript we declare comments with `//` as opposed to `#`. An example is below."
      ]
    },
    {
      "cell_type": "code",
      "metadata": {
        "id": "Du99qd56DtVY"
      },
      "source": [
        "// Initialize our HTML elements as JS objects\n",
        "var imgtag = document.getElementById(\"image\")"
      ],
      "execution_count": null,
      "outputs": []
    },
    {
      "cell_type": "markdown",
      "metadata": {
        "id": "pXeaYE0eHGcj"
      },
      "source": [
        "Now we initalize all of our other HTML elements that have a specified ID. We ensure that the variable names below stay the same, but the ID passed is specific to our code."
      ]
    },
    {
      "cell_type": "code",
      "metadata": {
        "id": "pUtMtImT8Kbe"
      },
      "source": [
        "<script>\n",
        "\n",
        "    // Initialize our HTML elements as JS objects\n",
        "\n",
        "    var imgtag = document.getElementById(\"{INPUT <img> TAG}\")\n",
        "    var prediction_text = document.getElementById(\"{PREDICTION <p> TAG}\")\n",
        "    var probability_text = document.getElementById(\"{PROBABILITY <p> TAG}\")\n",
        "\n",
        "    var progressbar = document.getElementById(\"{PROGRESS BAR <div> TAG}\")\n",
        "    var loadingmodel = document.getElementById(\"{PROGRESS BAR TEXT <h4> TAG}\")\n",
        "\n",
        "</script>"
      ],
      "execution_count": null,
      "outputs": []
    },
    {
      "cell_type": "markdown",
      "metadata": {
        "id": "1QYxXlj86NP0"
      },
      "source": [
        "Now we should be able to view the website!"
      ]
    },
    {
      "cell_type": "markdown",
      "metadata": {
        "id": "NZJpgy2MonN2"
      },
      "source": [
        "## Optional Exploration and Next Steps"
      ]
    },
    {
      "cell_type": "markdown",
      "metadata": {
        "id": "BwkOaeAo-S7w"
      },
      "source": [
        "We've also included a script that runs our `tensorflow.js` model on the input image and returns the prediction to the webpage. To view this code (written in JS), we can view the file at the path `static/js/skin_cancer_diagnosis_script.js` in the Colab filesystem.\n",
        "\n",
        "We have to upload the ```cnn_mode.zip``` file downloaded in Notebook 2 and run the following line of code:\n",
        "\n"
      ]
    },
    {
      "cell_type": "code",
      "metadata": {
        "id": "ZVsCDbCo4ChU"
      },
      "source": [
        "!unzip -q -o cnn_model.zip -d cnn_model"
      ],
      "execution_count": null,
      "outputs": []
    },
    {
      "cell_type": "markdown",
      "metadata": {
        "id": "hPYmfLw2OaZQ"
      },
      "source": [
        "# Hosting Websites for Longer Periods of Time"
      ]
    },
    {
      "cell_type": "markdown",
      "metadata": {
        "id": "O1lFDMHtPs_j"
      },
      "source": [
        "To host the website perpetually, we have to use a web hosting service. There are multiple ways to go about doing this. We can use a service like Github Pages, Amazon Web Services, or the Google Cloud. An alternative option is to use Node.js with frameworks such as Electron or Cordova, to deploy our website as a native application on Windows, Mac, Linux, Android, or iOS."
      ]
    },
    {
      "cell_type": "markdown",
      "metadata": {
        "id": "MlGW5FIvQiBD"
      },
      "source": [
        "If using Github Pages, we can initialize a repository and navigate to the setings page. There, we can set up our Github Pages settings and host our website online. Our website is accessible to anyone on the Internet, and we don't need to work with any Colab notebooks!"
      ]
    }
  ]
}